{
    "cells": [
        {
            "cell_type": "markdown",
            "metadata": {
                "collapsed": true
            },
            "source": "# Capstone Project - The Battle of Neighbourhoods (Part-1)"
        },
        {
            "cell_type": "markdown",
            "metadata": {},
            "source": "### Introduction:\nNew York City's demographics show that it is a large and ethnically diverse metropolis. It is\nthe largest city in the United States with a long history of international immigration. New York\nCity was home to nearly 8.5 million people in 2014, accounting for over 40% of the population\nof New York State and a slightly lower percentage of the New York metropolitan area, home\nto approximately 23.6 million. Over the last decade the city has been growing faster than the\nregion. The New York region continues to be by far the leading metropolitan gateway for legal\nimmigrants admitted into the United States.\nNew York City has also been a major point of entry for immigrants; the term \"melting pot\"\nwas coined to describe densely populated immigrant neighbourhoods on the Lower East Side.\nAs many as 800 languages are spoken in New York, making it the most linguistically diverse\ncity in the world. English remains the most widely spoken language, although there are areas\nin the outer boroughs in which up to 25% of people speak English as an alternate language,\nand/or have limited or no English language fluency. English is least spoken in neighbourhoods\nsuch as Flushing, Sunset Park, and Corona.\nWith its diverse culture, comes diverse food items. There are many restaurants in New York\nCity, each belonging to different categories like Chinese, Indian, and French etc."
        },
        {
            "cell_type": "markdown",
            "metadata": {},
            "source": "### Problem:\nTo find the answers to the following questions:  \nQ1) List and visualize all major parts of New York City that has great Indian restaurants.  \nQ2) What is best location in New York City for Indian Cuisine?  \nQ3) Which areas have potential Indian Restaurant Market?  \nQ4) Which all areas lack Indian Restaurants?  \nQ5) Which is the best place to stay if you prefer Indian Cuisine?  "
        }
    ],
    "metadata": {
        "kernelspec": {
            "display_name": "Python 3.6",
            "language": "python",
            "name": "python3"
        },
        "language_info": {
            "codemirror_mode": {
                "name": "ipython",
                "version": 3
            },
            "file_extension": ".py",
            "mimetype": "text/x-python",
            "name": "python",
            "nbconvert_exporter": "python",
            "pygments_lexer": "ipython3",
            "version": "3.6.9"
        }
    },
    "nbformat": 4,
    "nbformat_minor": 1
}