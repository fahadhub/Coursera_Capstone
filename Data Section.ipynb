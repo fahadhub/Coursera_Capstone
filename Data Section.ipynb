{
    "cells": [
        {
            "cell_type": "markdown",
            "metadata": {
                "collapsed": true
            },
            "source": "# Capstone Project - The Battle of Neighbourhoods (Part-1)"
        },
        {
            "cell_type": "markdown",
            "metadata": {},
            "source": "### Data Section:\nNew York City's demographics show that it is a large and ethnically diverse metropolis. With its diverse culture, comes diverse food items. There are many restaurants in New York City, each belonging to different categories like Chinese, Indian, and French etc.\n\nFor this project we need the following data:\n - New York City data that contains list Boroughs, Neighbourhoods along with their latitude and longitude.\n    - Data source : https://cocl.us/new_york_dataset\n    - Description: This data set contains the required information. And we will use this dataset to explore various neighbourhoods of New York City\n - Indian restaurants in each neighbourhood of New York City.\n    - Data source : Foursquare API\n    - Description: By using this API we will get all the venues in each neighbourhood. We can filter these venues to get only Indian restaurants.\n - GeoSpace data\n    - Data source : https://data.cityofnewyork.us/City-Government/BoroughBoundaries/tqmj-j8zm\n    - Description: By using this geo space data we will get the New York Borough boundaries that will help us visualize choropleth map."
        }
    ],
    "metadata": {
        "kernelspec": {
            "display_name": "Python 3.6",
            "language": "python",
            "name": "python3"
        },
        "language_info": {
            "codemirror_mode": {
                "name": "ipython",
                "version": 3
            },
            "file_extension": ".py",
            "mimetype": "text/x-python",
            "name": "python",
            "nbconvert_exporter": "python",
            "pygments_lexer": "ipython3",
            "version": "3.6.9"
        }
    },
    "nbformat": 4,
    "nbformat_minor": 1
}